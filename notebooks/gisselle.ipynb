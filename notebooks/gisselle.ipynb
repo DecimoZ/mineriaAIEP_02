{
 "cells": [
  {
   "cell_type": "markdown",
   "id": "df5b6c6b",
   "metadata": {},
   "source": [
    "gisse"
   ]
  }
 ],
 "metadata": {
  "language_info": {
   "name": "python"
  }
 },
 "nbformat": 4,
 "nbformat_minor": 5
}
